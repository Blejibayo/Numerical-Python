{
 "cells": [
  {
   "cell_type": "markdown",
   "id": "a2cfcb3d-b09f-4fc4-a49c-f1c4eb37f4b0",
   "metadata": {},
   "source": [
    "<h2> NUMERICAL PYTHON<h2>"
   ]
  },
  {
   "cell_type": "code",
   "execution_count": 1,
   "id": "153b40e3-17b8-447c-b4cf-f5669c9f70eb",
   "metadata": {},
   "outputs": [],
   "source": [
    "import numpy as np"
   ]
  },
  {
   "cell_type": "code",
   "execution_count": 2,
   "id": "e2940fd7-3828-41dc-9f65-9602e1630ac0",
   "metadata": {},
   "outputs": [],
   "source": [
    "d=[1,3,5,7,8]"
   ]
  },
  {
   "cell_type": "code",
   "execution_count": 3,
   "id": "bd4ff35b-b76b-41eb-903a-c43a2efaabad",
   "metadata": {},
   "outputs": [
    {
     "data": {
      "text/plain": [
       "list"
      ]
     },
     "execution_count": 3,
     "metadata": {},
     "output_type": "execute_result"
    }
   ],
   "source": [
    "type(d)"
   ]
  },
  {
   "cell_type": "code",
   "execution_count": 4,
   "id": "63dd3626-5b5c-4485-8e7c-0947d9df93e2",
   "metadata": {},
   "outputs": [
    {
     "data": {
      "text/plain": [
       "array([1, 3, 5, 7, 8])"
      ]
     },
     "execution_count": 4,
     "metadata": {},
     "output_type": "execute_result"
    }
   ],
   "source": [
    "np.array(d)"
   ]
  },
  {
   "cell_type": "code",
   "execution_count": 5,
   "id": "5a91d468-7d9c-4066-963e-bbc8a4075a99",
   "metadata": {},
   "outputs": [],
   "source": [
    "s=np.array(d)"
   ]
  },
  {
   "cell_type": "code",
   "execution_count": 6,
   "id": "8c4a4725-ef1e-4770-8440-71cad6516f89",
   "metadata": {},
   "outputs": [
    {
     "data": {
      "text/plain": [
       "numpy.ndarray"
      ]
     },
     "execution_count": 6,
     "metadata": {},
     "output_type": "execute_result"
    }
   ],
   "source": [
    "type(s)"
   ]
  },
  {
   "cell_type": "code",
   "execution_count": 7,
   "id": "65e7fddf-12a5-41b4-9873-263aacbd9224",
   "metadata": {},
   "outputs": [
    {
     "data": {
      "text/plain": [
       "dtype('int32')"
      ]
     },
     "execution_count": 7,
     "metadata": {},
     "output_type": "execute_result"
    }
   ],
   "source": [
    "s.dtype"
   ]
  },
  {
   "cell_type": "code",
   "execution_count": 8,
   "id": "aa572edb-2885-4c60-a714-23e4abd4671a",
   "metadata": {},
   "outputs": [
    {
     "data": {
      "text/plain": [
       "1"
      ]
     },
     "execution_count": 8,
     "metadata": {},
     "output_type": "execute_result"
    }
   ],
   "source": [
    "s.ndim"
   ]
  },
  {
   "cell_type": "code",
   "execution_count": 9,
   "id": "34a1ec94-1aa6-42e0-9ea8-b5dd3d31efe8",
   "metadata": {},
   "outputs": [
    {
     "data": {
      "text/plain": [
       "(5,)"
      ]
     },
     "execution_count": 9,
     "metadata": {},
     "output_type": "execute_result"
    }
   ],
   "source": [
    "s.shape"
   ]
  },
  {
   "cell_type": "code",
   "execution_count": 10,
   "id": "b67e18fd-9e5d-42ff-856a-2fb43196ae17",
   "metadata": {},
   "outputs": [
    {
     "data": {
      "text/plain": [
       "5"
      ]
     },
     "execution_count": 10,
     "metadata": {},
     "output_type": "execute_result"
    }
   ],
   "source": [
    "s.size"
   ]
  },
  {
   "cell_type": "markdown",
   "id": "a747c184-c65a-4763-8b16-c5e036131f61",
   "metadata": {},
   "source": [
    "# MULTIDIMENSIONAL ARRAY\n",
    "LIST OF LIST"
   ]
  },
  {
   "cell_type": "code",
   "execution_count": 11,
   "id": "ca8cdb5b-76af-43e5-8016-350f85f364ab",
   "metadata": {},
   "outputs": [],
   "source": [
    "c=[(2,3,4,5,6,7,8),(8,7,6,5,4,3,2),(4,5,2,3,8,7,6)]"
   ]
  },
  {
   "cell_type": "code",
   "execution_count": 12,
   "id": "eab7d48a-ab15-4de3-936e-85c1339631b8",
   "metadata": {},
   "outputs": [
    {
     "data": {
      "text/plain": [
       "[(2, 3, 4, 5, 6, 7, 8), (8, 7, 6, 5, 4, 3, 2), (4, 5, 2, 3, 8, 7, 6)]"
      ]
     },
     "execution_count": 12,
     "metadata": {},
     "output_type": "execute_result"
    }
   ],
   "source": [
    "c"
   ]
  },
  {
   "cell_type": "code",
   "execution_count": 13,
   "id": "d2758ebd-cdc3-4d50-9978-7f3b04530a4d",
   "metadata": {},
   "outputs": [
    {
     "data": {
      "text/plain": [
       "array([[2, 3, 4, 5, 6, 7, 8],\n",
       "       [8, 7, 6, 5, 4, 3, 2],\n",
       "       [4, 5, 2, 3, 8, 7, 6]])"
      ]
     },
     "execution_count": 13,
     "metadata": {},
     "output_type": "execute_result"
    }
   ],
   "source": [
    "np.array(c)"
   ]
  },
  {
   "cell_type": "code",
   "execution_count": 14,
   "id": "334e2d59-9824-4e74-9e2d-3a811bc99cf4",
   "metadata": {},
   "outputs": [],
   "source": [
    "u=np.array(c)"
   ]
  },
  {
   "cell_type": "code",
   "execution_count": 15,
   "id": "1092e8d3-8efc-4e30-bc2e-004f1a1e666a",
   "metadata": {},
   "outputs": [
    {
     "data": {
      "text/plain": [
       "array([[2, 3, 4, 5, 6, 7, 8],\n",
       "       [8, 7, 6, 5, 4, 3, 2],\n",
       "       [4, 5, 2, 3, 8, 7, 6]])"
      ]
     },
     "execution_count": 15,
     "metadata": {},
     "output_type": "execute_result"
    }
   ],
   "source": [
    "u"
   ]
  },
  {
   "cell_type": "code",
   "execution_count": 16,
   "id": "0942bba5-a4b7-4146-b535-076fef092a66",
   "metadata": {},
   "outputs": [
    {
     "data": {
      "text/plain": [
       "dtype('int32')"
      ]
     },
     "execution_count": 16,
     "metadata": {},
     "output_type": "execute_result"
    }
   ],
   "source": [
    "u.dtype"
   ]
  },
  {
   "cell_type": "code",
   "execution_count": 17,
   "id": "efcec262-3009-42ff-86df-78899e054f8b",
   "metadata": {},
   "outputs": [
    {
     "data": {
      "text/plain": [
       "2"
      ]
     },
     "execution_count": 17,
     "metadata": {},
     "output_type": "execute_result"
    }
   ],
   "source": [
    "u.ndim"
   ]
  },
  {
   "cell_type": "code",
   "execution_count": 18,
   "id": "881552f4-cf24-435c-9b28-6d6c1c5e1b85",
   "metadata": {},
   "outputs": [
    {
     "data": {
      "text/plain": [
       "(3, 7)"
      ]
     },
     "execution_count": 18,
     "metadata": {},
     "output_type": "execute_result"
    }
   ],
   "source": [
    "u.shape"
   ]
  },
  {
   "cell_type": "code",
   "execution_count": 19,
   "id": "19794afc-fb5d-49a1-8983-24486187d2fc",
   "metadata": {},
   "outputs": [
    {
     "data": {
      "text/plain": [
       "21"
      ]
     },
     "execution_count": 19,
     "metadata": {},
     "output_type": "execute_result"
    }
   ],
   "source": [
    "u.size"
   ]
  },
  {
   "cell_type": "code",
   "execution_count": 20,
   "id": "54d7d5a9-d716-4ebf-84fa-4027b51feca0",
   "metadata": {},
   "outputs": [],
   "source": [
    "u=np.array(c,dtype=np.int16)"
   ]
  },
  {
   "cell_type": "code",
   "execution_count": 21,
   "id": "8e31d180-9d4c-4d6a-bca1-01864aa9c605",
   "metadata": {},
   "outputs": [
    {
     "data": {
      "text/plain": [
       "array([[2, 3, 4, 5, 6, 7, 8],\n",
       "       [8, 7, 6, 5, 4, 3, 2],\n",
       "       [4, 5, 2, 3, 8, 7, 6]], dtype=int16)"
      ]
     },
     "execution_count": 21,
     "metadata": {},
     "output_type": "execute_result"
    }
   ],
   "source": [
    "u"
   ]
  },
  {
   "cell_type": "code",
   "execution_count": 22,
   "id": "fb894184-96ad-4fa9-9587-eb42c19d081e",
   "metadata": {},
   "outputs": [
    {
     "data": {
      "text/plain": [
       "array(['A', 'B', 'C', '1', '4', '2'], dtype='<U11')"
      ]
     },
     "execution_count": 22,
     "metadata": {},
     "output_type": "execute_result"
    }
   ],
   "source": [
    "np.array ([\"A\",\"B\",\"C\",1,4,2])"
   ]
  },
  {
   "cell_type": "code",
   "execution_count": 23,
   "id": "3d033706-f429-4ded-94fe-1c9268ae8a0c",
   "metadata": {},
   "outputs": [
    {
     "data": {
      "text/plain": [
       "array(['A', 'B', 'C'], dtype='<U1')"
      ]
     },
     "execution_count": 23,
     "metadata": {},
     "output_type": "execute_result"
    }
   ],
   "source": [
    "np.array ([\"A\",\"B\",\"C\"])"
   ]
  },
  {
   "cell_type": "code",
   "execution_count": 24,
   "id": "b6eb4066-9347-4d82-ac5f-81436316aa46",
   "metadata": {},
   "outputs": [
    {
     "data": {
      "text/plain": [
       "array([1, 2, 3])"
      ]
     },
     "execution_count": 24,
     "metadata": {},
     "output_type": "execute_result"
    }
   ],
   "source": [
    "np.array([1,2,3])"
   ]
  },
  {
   "cell_type": "markdown",
   "id": "fe1ab019-6d11-4595-a0d1-8e18e3fa1d5f",
   "metadata": {},
   "source": [
    "#FUNCTIONS IN NP"
   ]
  },
  {
   "cell_type": "code",
   "execution_count": 25,
   "id": "0e4d92af-5039-41f0-8d38-a3b9db578e22",
   "metadata": {},
   "outputs": [
    {
     "data": {
      "text/plain": [
       "array([0, 1, 2, 3, 4, 5, 6, 7, 8, 9])"
      ]
     },
     "execution_count": 25,
     "metadata": {},
     "output_type": "execute_result"
    }
   ],
   "source": [
    "np.arange(10)"
   ]
  },
  {
   "cell_type": "code",
   "execution_count": 26,
   "id": "4c12f666-e988-4b74-875b-764a471e0b73",
   "metadata": {},
   "outputs": [
    {
     "data": {
      "text/plain": [
       "array([ 2,  3,  4,  5,  6,  7,  8,  9, 10, 11, 12, 13])"
      ]
     },
     "execution_count": 26,
     "metadata": {},
     "output_type": "execute_result"
    }
   ],
   "source": [
    "np.arange(2,14)"
   ]
  },
  {
   "cell_type": "code",
   "execution_count": 27,
   "id": "44035ba7-ec3f-4a44-9a33-bc45b96c03b5",
   "metadata": {},
   "outputs": [
    {
     "data": {
      "text/plain": [
       "array([ 2,  5,  8, 11])"
      ]
     },
     "execution_count": 27,
     "metadata": {},
     "output_type": "execute_result"
    }
   ],
   "source": [
    "np.arange(2,14,3)"
   ]
  },
  {
   "cell_type": "code",
   "execution_count": 28,
   "id": "ece44586-29c1-45c4-a0ea-2dcf13b24b32",
   "metadata": {},
   "outputs": [
    {
     "data": {
      "text/plain": [
       "array([ 2.,  5.,  8., 11.])"
      ]
     },
     "execution_count": 28,
     "metadata": {},
     "output_type": "execute_result"
    }
   ],
   "source": [
    "np.arange(2,14,3,dtype=float)"
   ]
  },
  {
   "cell_type": "markdown",
   "id": "d344de1f-7688-4c37-99e7-2a5e17aa390b",
   "metadata": {},
   "source": [
    "#lineary seperable=linspace"
   ]
  },
  {
   "cell_type": "code",
   "execution_count": 29,
   "id": "4c7e069e-5f9a-4824-8c10-9cf623d67858",
   "metadata": {},
   "outputs": [
    {
     "data": {
      "text/plain": [
       "array([ 2. ,  6.5, 11. , 15.5, 20. ])"
      ]
     },
     "execution_count": 29,
     "metadata": {},
     "output_type": "execute_result"
    }
   ],
   "source": [
    "np.linspace(2,20,5)"
   ]
  },
  {
   "cell_type": "code",
   "execution_count": 30,
   "id": "42750f2a-32ae-41e8-8f03-6d04f1eebfdd",
   "metadata": {},
   "outputs": [
    {
     "data": {
      "text/plain": [
       "array([2., 4., 6., 8.])"
      ]
     },
     "execution_count": 30,
     "metadata": {},
     "output_type": "execute_result"
    }
   ],
   "source": [
    "np.linspace(2,8,4)"
   ]
  },
  {
   "cell_type": "code",
   "execution_count": 31,
   "id": "1498403e-5cbd-461e-87b2-1f122e7593d4",
   "metadata": {},
   "outputs": [
    {
     "data": {
      "text/plain": [
       "array([ 2.,  8., 14.])"
      ]
     },
     "execution_count": 31,
     "metadata": {},
     "output_type": "execute_result"
    }
   ],
   "source": [
    "np.linspace(2,14,3)"
   ]
  },
  {
   "cell_type": "code",
   "execution_count": 32,
   "id": "726a2b7b-306d-48cc-b3a4-dff05c166aee",
   "metadata": {},
   "outputs": [
    {
     "data": {
      "text/plain": [
       "array([2, 4, 6, 8], dtype=int16)"
      ]
     },
     "execution_count": 32,
     "metadata": {},
     "output_type": "execute_result"
    }
   ],
   "source": [
    "np.linspace(2,8,4,dtype=np.int16)"
   ]
  },
  {
   "cell_type": "code",
   "execution_count": 33,
   "id": "bbe1e16c-9f66-45ca-83c7-07b1ac8d2f07",
   "metadata": {},
   "outputs": [
    {
     "data": {
      "text/plain": [
       "array([2, 4, 6, 8])"
      ]
     },
     "execution_count": 33,
     "metadata": {},
     "output_type": "execute_result"
    }
   ],
   "source": [
    "np.linspace(2,8,4,dtype=int)"
   ]
  },
  {
   "cell_type": "code",
   "execution_count": 34,
   "id": "9cd1009c-3538-4a87-bf65-f92a2a7d9b01",
   "metadata": {},
   "outputs": [
    {
     "data": {
      "text/plain": [
       "array([2.        , 2.12244898, 2.24489796, 2.36734694, 2.48979592,\n",
       "       2.6122449 , 2.73469388, 2.85714286, 2.97959184, 3.10204082,\n",
       "       3.2244898 , 3.34693878, 3.46938776, 3.59183673, 3.71428571,\n",
       "       3.83673469, 3.95918367, 4.08163265, 4.20408163, 4.32653061,\n",
       "       4.44897959, 4.57142857, 4.69387755, 4.81632653, 4.93877551,\n",
       "       5.06122449, 5.18367347, 5.30612245, 5.42857143, 5.55102041,\n",
       "       5.67346939, 5.79591837, 5.91836735, 6.04081633, 6.16326531,\n",
       "       6.28571429, 6.40816327, 6.53061224, 6.65306122, 6.7755102 ,\n",
       "       6.89795918, 7.02040816, 7.14285714, 7.26530612, 7.3877551 ,\n",
       "       7.51020408, 7.63265306, 7.75510204, 7.87755102, 8.        ])"
      ]
     },
     "execution_count": 34,
     "metadata": {},
     "output_type": "execute_result"
    }
   ],
   "source": [
    "np.linspace(2,8)"
   ]
  },
  {
   "cell_type": "code",
   "execution_count": 35,
   "id": "a5c2cb77-b40d-45ba-ad69-e82b1feb3bfd",
   "metadata": {},
   "outputs": [
    {
     "data": {
      "text/plain": [
       "array([[1., 0., 0., 0.],\n",
       "       [0., 1., 0., 0.],\n",
       "       [0., 0., 1., 0.],\n",
       "       [0., 0., 0., 1.]])"
      ]
     },
     "execution_count": 35,
     "metadata": {},
     "output_type": "execute_result"
    }
   ],
   "source": [
    "np.eye(4)"
   ]
  },
  {
   "cell_type": "code",
   "execution_count": 36,
   "id": "41b26a21-8478-4415-9934-9d6b3a723a4b",
   "metadata": {},
   "outputs": [
    {
     "data": {
      "text/plain": [
       "array([[1., 0.],\n",
       "       [0., 1.],\n",
       "       [0., 0.]])"
      ]
     },
     "execution_count": 36,
     "metadata": {},
     "output_type": "execute_result"
    }
   ],
   "source": [
    "np.eye(3,2)"
   ]
  },
  {
   "cell_type": "code",
   "execution_count": 37,
   "id": "2eaf54fe-fb2c-4f29-9517-d29a799b9106",
   "metadata": {},
   "outputs": [
    {
     "data": {
      "text/plain": [
       "array([[2, 0, 0],\n",
       "       [0, 3, 0],\n",
       "       [0, 0, 4]])"
      ]
     },
     "execution_count": 37,
     "metadata": {},
     "output_type": "execute_result"
    }
   ],
   "source": [
    "np.diag([2,3,4])"
   ]
  },
  {
   "cell_type": "code",
   "execution_count": 38,
   "id": "0bc94571-050a-4cb7-b5eb-67f8cf57f1dd",
   "metadata": {},
   "outputs": [
    {
     "data": {
      "text/plain": [
       "array([[0, 0, 0, 2, 0, 0, 0, 0],\n",
       "       [0, 0, 0, 0, 3, 0, 0, 0],\n",
       "       [0, 0, 0, 0, 0, 4, 0, 0],\n",
       "       [0, 0, 0, 0, 0, 0, 5, 0],\n",
       "       [0, 0, 0, 0, 0, 0, 0, 7],\n",
       "       [0, 0, 0, 0, 0, 0, 0, 0],\n",
       "       [0, 0, 0, 0, 0, 0, 0, 0],\n",
       "       [0, 0, 0, 0, 0, 0, 0, 0]])"
      ]
     },
     "execution_count": 38,
     "metadata": {},
     "output_type": "execute_result"
    }
   ],
   "source": [
    "np.diag([2,3,4,5,7],3)"
   ]
  },
  {
   "cell_type": "code",
   "execution_count": 39,
   "id": "e514f44c-7e07-4e49-b2fb-ab578ce60d89",
   "metadata": {},
   "outputs": [
    {
     "data": {
      "text/plain": [
       "array([[0, 0, 2, 0, 0, 0, 0],\n",
       "       [0, 0, 0, 3, 0, 0, 0],\n",
       "       [0, 0, 0, 0, 4, 0, 0],\n",
       "       [0, 0, 0, 0, 0, 5, 0],\n",
       "       [0, 0, 0, 0, 0, 0, 7],\n",
       "       [0, 0, 0, 0, 0, 0, 0],\n",
       "       [0, 0, 0, 0, 0, 0, 0]])"
      ]
     },
     "execution_count": 39,
     "metadata": {},
     "output_type": "execute_result"
    }
   ],
   "source": [
    "np.diag([2,3,4,5,7],2)"
   ]
  },
  {
   "cell_type": "code",
   "execution_count": 40,
   "id": "08990cc1-9023-4b4e-a36c-9c3ea9f07ab5",
   "metadata": {},
   "outputs": [
    {
     "data": {
      "text/plain": [
       "array([1., 1., 1., 1., 1., 1., 1., 1.])"
      ]
     },
     "execution_count": 40,
     "metadata": {},
     "output_type": "execute_result"
    }
   ],
   "source": [
    "np.ones(8)"
   ]
  },
  {
   "cell_type": "code",
   "execution_count": 41,
   "id": "972c485a-a435-499f-a33c-b0491b8ded22",
   "metadata": {},
   "outputs": [
    {
     "data": {
      "text/plain": [
       "array([0., 0., 0., 0.])"
      ]
     },
     "execution_count": 41,
     "metadata": {},
     "output_type": "execute_result"
    }
   ],
   "source": [
    "np.zeros(4)"
   ]
  },
  {
   "cell_type": "code",
   "execution_count": 42,
   "id": "ed8e4597-bfce-40a0-a46e-04d73170e565",
   "metadata": {},
   "outputs": [
    {
     "data": {
      "text/plain": [
       "array([9, 9, 9, 9, 9, 9, 9])"
      ]
     },
     "execution_count": 42,
     "metadata": {},
     "output_type": "execute_result"
    }
   ],
   "source": [
    "np.full(7,9)"
   ]
  },
  {
   "cell_type": "code",
   "execution_count": 43,
   "id": "c55810e4-5841-4181-a734-60f7b7615ac8",
   "metadata": {},
   "outputs": [
    {
     "data": {
      "text/plain": [
       "array([0.30192831, 0.97663033, 0.75695691, 0.86228962])"
      ]
     },
     "execution_count": 43,
     "metadata": {},
     "output_type": "execute_result"
    }
   ],
   "source": [
    "np.random.rand(4)"
   ]
  },
  {
   "cell_type": "code",
   "execution_count": null,
   "id": "cc7a9ac7-813b-4ef9-ab62-cf4c26e464ba",
   "metadata": {},
   "outputs": [],
   "source": []
  },
  {
   "cell_type": "markdown",
   "id": "22b75d67-3bc2-44e4-a443-e41dbc05c445",
   "metadata": {},
   "source": [
    "#manupulation of array"
   ]
  },
  {
   "cell_type": "code",
   "execution_count": 44,
   "id": "51a028c9-c7b2-441e-ba23-9c61d3919bb0",
   "metadata": {},
   "outputs": [
    {
     "data": {
      "text/plain": [
       "array([2.        , 2.12244898, 2.24489796, 2.36734694, 2.48979592,\n",
       "       2.6122449 , 2.73469388, 2.85714286, 2.97959184, 3.10204082,\n",
       "       3.2244898 , 3.34693878, 3.46938776, 3.59183673, 3.71428571,\n",
       "       3.83673469, 3.95918367, 4.08163265, 4.20408163, 4.32653061,\n",
       "       4.44897959, 4.57142857, 4.69387755, 4.81632653, 4.93877551,\n",
       "       5.06122449, 5.18367347, 5.30612245, 5.42857143, 5.55102041,\n",
       "       5.67346939, 5.79591837, 5.91836735, 6.04081633, 6.16326531,\n",
       "       6.28571429, 6.40816327, 6.53061224, 6.65306122, 6.7755102 ,\n",
       "       6.89795918, 7.02040816, 7.14285714, 7.26530612, 7.3877551 ,\n",
       "       7.51020408, 7.63265306, 7.75510204, 7.87755102, 8.        ])"
      ]
     },
     "execution_count": 44,
     "metadata": {},
     "output_type": "execute_result"
    }
   ],
   "source": [
    "np.linspace(2,8)"
   ]
  },
  {
   "cell_type": "code",
   "execution_count": 45,
   "id": "1e39f5fe-9bd5-423a-a54e-a018d3a93e29",
   "metadata": {},
   "outputs": [
    {
     "data": {
      "text/plain": [
       "(50,)"
      ]
     },
     "execution_count": 45,
     "metadata": {},
     "output_type": "execute_result"
    }
   ],
   "source": [
    "np.linspace(2,8).shape"
   ]
  },
  {
   "cell_type": "code",
   "execution_count": 46,
   "id": "e8fef416-a126-4096-9400-b5d8c5a28074",
   "metadata": {},
   "outputs": [
    {
     "data": {
      "text/plain": [
       "array([[2.        , 2.12244898, 2.24489796, 2.36734694, 2.48979592,\n",
       "        2.6122449 , 2.73469388, 2.85714286, 2.97959184, 3.10204082,\n",
       "        3.2244898 , 3.34693878, 3.46938776, 3.59183673, 3.71428571,\n",
       "        3.83673469, 3.95918367, 4.08163265, 4.20408163, 4.32653061,\n",
       "        4.44897959, 4.57142857, 4.69387755, 4.81632653, 4.93877551],\n",
       "       [5.06122449, 5.18367347, 5.30612245, 5.42857143, 5.55102041,\n",
       "        5.67346939, 5.79591837, 5.91836735, 6.04081633, 6.16326531,\n",
       "        6.28571429, 6.40816327, 6.53061224, 6.65306122, 6.7755102 ,\n",
       "        6.89795918, 7.02040816, 7.14285714, 7.26530612, 7.3877551 ,\n",
       "        7.51020408, 7.63265306, 7.75510204, 7.87755102, 8.        ]])"
      ]
     },
     "execution_count": 46,
     "metadata": {},
     "output_type": "execute_result"
    }
   ],
   "source": [
    "np.linspace(2,8).reshape(2,25)"
   ]
  },
  {
   "cell_type": "code",
   "execution_count": 47,
   "id": "b0a147bb-011a-4536-b8fd-b19592341a7f",
   "metadata": {},
   "outputs": [
    {
     "data": {
      "text/plain": [
       "(2, 25)"
      ]
     },
     "execution_count": 47,
     "metadata": {},
     "output_type": "execute_result"
    }
   ],
   "source": [
    "np.linspace(2,8).reshape(2,25).shape"
   ]
  },
  {
   "cell_type": "code",
   "execution_count": 48,
   "id": "3b0354c0-e8d7-44db-9d5b-22e0c8b44a87",
   "metadata": {},
   "outputs": [
    {
     "data": {
      "text/plain": [
       "array([ 2,  3,  4,  5,  6,  7,  8,  9, 10, 11, 12, 13, 14, 15, 16, 17, 18,\n",
       "       19, 20, 21, 22, 23, 24, 25, 26, 27, 28, 29, 30, 31, 32, 33, 34, 35,\n",
       "       36, 37, 38, 39])"
      ]
     },
     "execution_count": 48,
     "metadata": {},
     "output_type": "execute_result"
    }
   ],
   "source": [
    "np.arange(2,40)"
   ]
  },
  {
   "cell_type": "code",
   "execution_count": 49,
   "id": "b61eb089-856a-4d37-8770-5c3e78a7e4e9",
   "metadata": {},
   "outputs": [
    {
     "data": {
      "text/plain": [
       "(38,)"
      ]
     },
     "execution_count": 49,
     "metadata": {},
     "output_type": "execute_result"
    }
   ],
   "source": [
    "np.arange(2,40).shape"
   ]
  },
  {
   "cell_type": "code",
   "execution_count": 50,
   "id": "7169cc60-98d5-4399-a488-79b5228f1c68",
   "metadata": {},
   "outputs": [
    {
     "data": {
      "text/plain": [
       "array([[ 2,  3,  4,  5,  6,  7,  8,  9, 10, 11, 12, 13, 14, 15, 16, 17,\n",
       "        18, 19, 20],\n",
       "       [21, 22, 23, 24, 25, 26, 27, 28, 29, 30, 31, 32, 33, 34, 35, 36,\n",
       "        37, 38, 39]])"
      ]
     },
     "execution_count": 50,
     "metadata": {},
     "output_type": "execute_result"
    }
   ],
   "source": [
    "np.arange(2,40).reshape(2,19)"
   ]
  },
  {
   "cell_type": "code",
   "execution_count": 51,
   "id": "5f1d9e6c-8050-4f1c-b1b3-4aa3fab92861",
   "metadata": {},
   "outputs": [
    {
     "data": {
      "text/plain": [
       "(36,)"
      ]
     },
     "execution_count": 51,
     "metadata": {},
     "output_type": "execute_result"
    }
   ],
   "source": [
    "np.arange(1,37).shape"
   ]
  },
  {
   "cell_type": "code",
   "execution_count": 52,
   "id": "739e1285-8adb-442b-9875-70a1db8c1de9",
   "metadata": {},
   "outputs": [
    {
     "data": {
      "text/plain": [
       "array([[ 1,  2,  3,  4,  5,  6],\n",
       "       [ 7,  8,  9, 10, 11, 12],\n",
       "       [13, 14, 15, 16, 17, 18],\n",
       "       [19, 20, 21, 22, 23, 24],\n",
       "       [25, 26, 27, 28, 29, 30],\n",
       "       [31, 32, 33, 34, 35, 36]])"
      ]
     },
     "execution_count": 52,
     "metadata": {},
     "output_type": "execute_result"
    }
   ],
   "source": [
    "np.arange(1,37).reshape(6,6)"
   ]
  },
  {
   "cell_type": "markdown",
   "id": "262a4e77-5733-40b2-ae8d-7be33ba717c4",
   "metadata": {},
   "source": [
    "#TRANSPOSE"
   ]
  },
  {
   "cell_type": "code",
   "execution_count": 53,
   "id": "f494186f-9be0-47ab-9db8-45fd9c05e876",
   "metadata": {},
   "outputs": [
    {
     "data": {
      "text/plain": [
       "array([[ 1,  7, 13, 19, 25, 31],\n",
       "       [ 2,  8, 14, 20, 26, 32],\n",
       "       [ 3,  9, 15, 21, 27, 33],\n",
       "       [ 4, 10, 16, 22, 28, 34],\n",
       "       [ 5, 11, 17, 23, 29, 35],\n",
       "       [ 6, 12, 18, 24, 30, 36]])"
      ]
     },
     "execution_count": 53,
     "metadata": {},
     "output_type": "execute_result"
    }
   ],
   "source": [
    "np.transpose(np.arange(1,37).reshape(6,6))"
   ]
  },
  {
   "cell_type": "markdown",
   "id": "dfe00f21-f603-43b7-81d1-a1a63771443a",
   "metadata": {},
   "source": [
    "#Stacking"
   ]
  },
  {
   "cell_type": "code",
   "execution_count": 54,
   "id": "818e64c7-eda1-4994-ae25-02937471a654",
   "metadata": {},
   "outputs": [],
   "source": [
    "a=np.array([1,2,3])\n",
    "b=np.array([(9,7,6),(9,1,6)])\n",
    "c=np.array([(9,8,12),(26,9,21)])"
   ]
  },
  {
   "cell_type": "code",
   "execution_count": 55,
   "id": "c4893302-2d53-41a4-a1d9-4686159809b0",
   "metadata": {},
   "outputs": [
    {
     "data": {
      "text/plain": [
       "array([1, 2, 3])"
      ]
     },
     "execution_count": 55,
     "metadata": {},
     "output_type": "execute_result"
    }
   ],
   "source": [
    "a"
   ]
  },
  {
   "cell_type": "code",
   "execution_count": 56,
   "id": "6e96906e-64d3-4f4f-b1ed-a1f4f72e094b",
   "metadata": {},
   "outputs": [
    {
     "data": {
      "text/plain": [
       "array([[9, 7, 6],\n",
       "       [9, 1, 6]])"
      ]
     },
     "execution_count": 56,
     "metadata": {},
     "output_type": "execute_result"
    }
   ],
   "source": [
    "b"
   ]
  },
  {
   "cell_type": "code",
   "execution_count": 57,
   "id": "43b29361-528d-4bcb-b305-2cc4b37892bc",
   "metadata": {},
   "outputs": [
    {
     "data": {
      "text/plain": [
       "array([[1, 2, 3],\n",
       "       [9, 7, 6],\n",
       "       [9, 1, 6]])"
      ]
     },
     "execution_count": 57,
     "metadata": {},
     "output_type": "execute_result"
    }
   ],
   "source": [
    "np.vstack([a,b])"
   ]
  },
  {
   "cell_type": "code",
   "execution_count": 58,
   "id": "9e826f99-730b-4a15-ac38-d24c9c0a74ed",
   "metadata": {},
   "outputs": [
    {
     "data": {
      "text/plain": [
       "array([[ 9,  8, 12,  9,  7,  6],\n",
       "       [26,  9, 21,  9,  1,  6]])"
      ]
     },
     "execution_count": 58,
     "metadata": {},
     "output_type": "execute_result"
    }
   ],
   "source": [
    "np.hstack([c,b])"
   ]
  },
  {
   "cell_type": "markdown",
   "id": "e9234096-95f5-412f-8718-c671717c2fab",
   "metadata": {},
   "source": [
    "#mathematical function of numpy(arithmetic operation)"
   ]
  },
  {
   "cell_type": "code",
   "execution_count": 60,
   "id": "603c1c12-729d-4488-99ce-7769e3569d33",
   "metadata": {},
   "outputs": [
    {
     "data": {
      "text/plain": [
       "array([[ 81,  56,  72],\n",
       "       [234,   9, 126]])"
      ]
     },
     "execution_count": 60,
     "metadata": {},
     "output_type": "execute_result"
    }
   ],
   "source": [
    "c*b"
   ]
  },
  {
   "cell_type": "code",
   "execution_count": 61,
   "id": "40e539c3-0c8e-492a-a778-12900d869ab4",
   "metadata": {},
   "outputs": [],
   "source": [
    "o=np.array([1,2,3])\n",
    "w=np.array([3,4,5])"
   ]
  },
  {
   "cell_type": "code",
   "execution_count": 62,
   "id": "65f87417-4e5e-4e37-bc1d-b2cc280a73fb",
   "metadata": {},
   "outputs": [
    {
     "data": {
      "text/plain": [
       "array([ 3,  8, 15])"
      ]
     },
     "execution_count": 62,
     "metadata": {},
     "output_type": "execute_result"
    }
   ],
   "source": [
    "o*w"
   ]
  },
  {
   "cell_type": "code",
   "execution_count": 63,
   "id": "ab2ac60d-cfc5-41b7-a8d8-8060c0321143",
   "metadata": {},
   "outputs": [
    {
     "data": {
      "text/plain": [
       "array([-2, -2, -2])"
      ]
     },
     "execution_count": 63,
     "metadata": {},
     "output_type": "execute_result"
    }
   ],
   "source": [
    "o-w"
   ]
  },
  {
   "cell_type": "code",
   "execution_count": 64,
   "id": "6ca49247-278b-40ac-99c1-24ad06806727",
   "metadata": {},
   "outputs": [
    {
     "data": {
      "text/plain": [
       "array([-2, -2, -2])"
      ]
     },
     "execution_count": 64,
     "metadata": {},
     "output_type": "execute_result"
    }
   ],
   "source": [
    "np.subtract(o,w)"
   ]
  },
  {
   "cell_type": "code",
   "execution_count": 65,
   "id": "a4922ab3-7f83-4fb6-b1db-1af0858e07a3",
   "metadata": {},
   "outputs": [
    {
     "data": {
      "text/plain": [
       "array([4, 6, 8])"
      ]
     },
     "execution_count": 65,
     "metadata": {},
     "output_type": "execute_result"
    }
   ],
   "source": [
    "o+w"
   ]
  },
  {
   "cell_type": "code",
   "execution_count": 66,
   "id": "aed901a7-2994-405f-8a83-ea633a7913ee",
   "metadata": {},
   "outputs": [
    {
     "data": {
      "text/plain": [
       "array([4, 6, 8])"
      ]
     },
     "execution_count": 66,
     "metadata": {},
     "output_type": "execute_result"
    }
   ],
   "source": [
    "np.add(o,w)"
   ]
  },
  {
   "cell_type": "code",
   "execution_count": 67,
   "id": "77150109-e5c3-46f2-895f-ceaaae3b5fcb",
   "metadata": {},
   "outputs": [
    {
     "data": {
      "text/plain": [
       "array([0.33333333, 0.5       , 0.6       ])"
      ]
     },
     "execution_count": 67,
     "metadata": {},
     "output_type": "execute_result"
    }
   ],
   "source": [
    "o/w"
   ]
  },
  {
   "cell_type": "code",
   "execution_count": 68,
   "id": "1e98326d-dbe0-4e8a-8c15-aa4356f12651",
   "metadata": {},
   "outputs": [
    {
     "data": {
      "text/plain": [
       "array([0.33333333, 0.5       , 0.6       ])"
      ]
     },
     "execution_count": 68,
     "metadata": {},
     "output_type": "execute_result"
    }
   ],
   "source": [
    "np.divide(o,w)"
   ]
  },
  {
   "cell_type": "markdown",
   "id": "c387e57b-276e-45f2-be5d-f74c7d279652",
   "metadata": {},
   "source": [
    "#np aggregrate"
   ]
  },
  {
   "cell_type": "code",
   "execution_count": 69,
   "id": "669aa0a4-a807-441d-9614-c13686131ea9",
   "metadata": {},
   "outputs": [
    {
     "data": {
      "text/plain": [
       "array([1, 2, 3])"
      ]
     },
     "execution_count": 69,
     "metadata": {},
     "output_type": "execute_result"
    }
   ],
   "source": [
    "o"
   ]
  },
  {
   "cell_type": "code",
   "execution_count": 70,
   "id": "d947f0e8-07f8-4991-96e5-bd689f15679d",
   "metadata": {},
   "outputs": [
    {
     "data": {
      "text/plain": [
       "6"
      ]
     },
     "execution_count": 70,
     "metadata": {},
     "output_type": "execute_result"
    }
   ],
   "source": [
    "o.sum()"
   ]
  },
  {
   "cell_type": "code",
   "execution_count": null,
   "id": "9dca69eb-d890-4ef6-a351-943afee71b0a",
   "metadata": {},
   "outputs": [],
   "source": []
  },
  {
   "cell_type": "code",
   "execution_count": 71,
   "id": "761d8b89-a5ec-4502-a8ae-b2c7e44a34ed",
   "metadata": {},
   "outputs": [
    {
     "data": {
      "text/plain": [
       "array([[ 1,  7, 13, 19, 25, 31],\n",
       "       [ 2,  8, 14, 20, 26, 32],\n",
       "       [ 3,  9, 15, 21, 27, 33],\n",
       "       [ 4, 10, 16, 22, 28, 34],\n",
       "       [ 5, 11, 17, 23, 29, 35],\n",
       "       [ 6, 12, 18, 24, 30, 36]])"
      ]
     },
     "execution_count": 71,
     "metadata": {},
     "output_type": "execute_result"
    }
   ],
   "source": [
    "np.transpose(np.arange(1,37).reshape(6,6))"
   ]
  },
  {
   "cell_type": "code",
   "execution_count": 72,
   "id": "059695a7-c64e-49cb-ab40-c474a03b4ccc",
   "metadata": {},
   "outputs": [
    {
     "data": {
      "text/plain": [
       "array([ 21,  57,  93, 129, 165, 201])"
      ]
     },
     "execution_count": 72,
     "metadata": {},
     "output_type": "execute_result"
    }
   ],
   "source": [
    "np.transpose(np.arange(1,37).reshape(6,6)).sum(axis=0)"
   ]
  },
  {
   "cell_type": "code",
   "execution_count": 73,
   "id": "0571bf5d-1de3-4a7d-898d-d56973dc2897",
   "metadata": {},
   "outputs": [
    {
     "data": {
      "text/plain": [
       "array([ 96, 102, 108, 114, 120, 126])"
      ]
     },
     "execution_count": 73,
     "metadata": {},
     "output_type": "execute_result"
    }
   ],
   "source": [
    "np.transpose(np.arange(1,37).reshape(6,6)).sum(axis=1)"
   ]
  },
  {
   "cell_type": "markdown",
   "id": "4dd7fbde-9db7-4bfd-a656-7c3f943428c9",
   "metadata": {},
   "source": [
    "#MEAN(min, max)"
   ]
  },
  {
   "cell_type": "code",
   "execution_count": 75,
   "id": "ef0d8494-dc5f-418c-abfc-72c0d425b611",
   "metadata": {},
   "outputs": [
    {
     "data": {
      "text/plain": [
       "array([ 1,  7, 13, 19, 25, 31])"
      ]
     },
     "execution_count": 75,
     "metadata": {},
     "output_type": "execute_result"
    }
   ],
   "source": [
    "np.transpose(np.arange(1,37).reshape(6,6)).min(axis=0)"
   ]
  },
  {
   "cell_type": "code",
   "execution_count": 76,
   "id": "7463692a-7cf9-4a4c-9a77-ffaf01cc310d",
   "metadata": {},
   "outputs": [
    {
     "data": {
      "text/plain": [
       "array([1, 2, 3, 4, 5, 6])"
      ]
     },
     "execution_count": 76,
     "metadata": {},
     "output_type": "execute_result"
    }
   ],
   "source": [
    "np.transpose(np.arange(1,37).reshape(6,6)).min(axis=1)"
   ]
  },
  {
   "cell_type": "code",
   "execution_count": 77,
   "id": "19b3c2b8-73fd-4b6e-bc9a-f0dd52949456",
   "metadata": {},
   "outputs": [
    {
     "data": {
      "text/plain": [
       "array([ 6, 12, 18, 24, 30, 36])"
      ]
     },
     "execution_count": 77,
     "metadata": {},
     "output_type": "execute_result"
    }
   ],
   "source": [
    "np.transpose(np.arange(1,37).reshape(6,6)).max(axis=0)"
   ]
  },
  {
   "cell_type": "code",
   "execution_count": 78,
   "id": "b7661922-72f7-4555-b83a-2855cdf9f0ed",
   "metadata": {},
   "outputs": [
    {
     "data": {
      "text/plain": [
       "array([31, 32, 33, 34, 35, 36])"
      ]
     },
     "execution_count": 78,
     "metadata": {},
     "output_type": "execute_result"
    }
   ],
   "source": [
    "np.transpose(np.arange(1,37).reshape(6,6)).max(axis=1)"
   ]
  },
  {
   "cell_type": "markdown",
   "id": "090096e9-0689-497e-9ddb-2bec5bd5d835",
   "metadata": {},
   "source": [
    "#cumulative sum"
   ]
  },
  {
   "cell_type": "code",
   "execution_count": 79,
   "id": "36902ced-2e14-4201-af5c-bfe0b09f5c84",
   "metadata": {},
   "outputs": [
    {
     "data": {
      "text/plain": [
       "array([[  1,   7,  13,  19,  25,  31],\n",
       "       [  3,  15,  27,  39,  51,  63],\n",
       "       [  6,  24,  42,  60,  78,  96],\n",
       "       [ 10,  34,  58,  82, 106, 130],\n",
       "       [ 15,  45,  75, 105, 135, 165],\n",
       "       [ 21,  57,  93, 129, 165, 201]])"
      ]
     },
     "execution_count": 79,
     "metadata": {},
     "output_type": "execute_result"
    }
   ],
   "source": [
    "np.transpose(np.arange(1,37).reshape(6,6)).cumsum(axis=0)"
   ]
  },
  {
   "cell_type": "code",
   "execution_count": 80,
   "id": "c97c6476-c9a7-4b82-8ef8-025bae855ec9",
   "metadata": {},
   "outputs": [
    {
     "data": {
      "text/plain": [
       "array([[  1,   8,  21,  40,  65,  96],\n",
       "       [  2,  10,  24,  44,  70, 102],\n",
       "       [  3,  12,  27,  48,  75, 108],\n",
       "       [  4,  14,  30,  52,  80, 114],\n",
       "       [  5,  16,  33,  56,  85, 120],\n",
       "       [  6,  18,  36,  60,  90, 126]])"
      ]
     },
     "execution_count": 80,
     "metadata": {},
     "output_type": "execute_result"
    }
   ],
   "source": [
    "np.transpose(np.arange(1,37).reshape(6,6)).cumsum(axis=1)"
   ]
  },
  {
   "cell_type": "code",
   "execution_count": 81,
   "id": "9c845e67-bbde-468f-8ec2-d09df00b596e",
   "metadata": {},
   "outputs": [
    {
     "data": {
      "text/plain": [
       "1701"
      ]
     },
     "execution_count": 81,
     "metadata": {},
     "output_type": "execute_result"
    }
   ],
   "source": [
    "np.transpose(np.arange(1,37).reshape(6,6)).cumsum(axis=1).sum()"
   ]
  },
  {
   "cell_type": "code",
   "execution_count": 82,
   "id": "205caa26-c03d-4b6d-b014-7c698bd5b62a",
   "metadata": {},
   "outputs": [
    {
     "data": {
      "text/plain": [
       "array([  3.5,  13. ,  28.5,  50. ,  77.5, 111. ])"
      ]
     },
     "execution_count": 82,
     "metadata": {},
     "output_type": "execute_result"
    }
   ],
   "source": [
    "np.transpose(np.arange(1,37).reshape(6,6)).cumsum(axis=1).mean(axis=0)"
   ]
  },
  {
   "cell_type": "code",
   "execution_count": 83,
   "id": "7c5f323e-5dc5-4fa5-8bf4-2f39604c7806",
   "metadata": {},
   "outputs": [
    {
     "data": {
      "text/plain": [
       "array([38.5, 42. , 45.5, 49. , 52.5, 56. ])"
      ]
     },
     "execution_count": 83,
     "metadata": {},
     "output_type": "execute_result"
    }
   ],
   "source": [
    "np.transpose(np.arange(1,37).reshape(6,6)).cumsum(axis=1).mean(axis=1)"
   ]
  },
  {
   "cell_type": "markdown",
   "id": "248897e3-4e69-40a7-b4f1-c0a01c8698b1",
   "metadata": {},
   "source": [
    "#median"
   ]
  },
  {
   "cell_type": "code",
   "execution_count": 84,
   "id": "06c1046d-5e2e-45a8-b9d1-1f8c1014d100",
   "metadata": {},
   "outputs": [
    {
     "data": {
      "text/plain": [
       "18.5"
      ]
     },
     "execution_count": 84,
     "metadata": {},
     "output_type": "execute_result"
    }
   ],
   "source": [
    "np.median(np.transpose(np.arange(1,37)))"
   ]
  },
  {
   "cell_type": "markdown",
   "id": "9cd202c5-2e31-4ebb-a45a-b7232c8fe7f1",
   "metadata": {},
   "source": [
    "#standard deviation"
   ]
  },
  {
   "cell_type": "code",
   "execution_count": 85,
   "id": "f9607438-69e4-4685-a84a-28797682e181",
   "metadata": {},
   "outputs": [
    {
     "data": {
      "text/plain": [
       "10.388294694831615"
      ]
     },
     "execution_count": 85,
     "metadata": {},
     "output_type": "execute_result"
    }
   ],
   "source": [
    "np.transpose(np.arange(1,37)).std()"
   ]
  },
  {
   "cell_type": "code",
   "execution_count": null,
   "id": "dd17757c-0066-4891-8dc3-624d70c7aeb2",
   "metadata": {},
   "outputs": [],
   "source": [
    "#for sine,cosine,tangent"
   ]
  },
  {
   "cell_type": "code",
   "execution_count": 86,
   "id": "b135022d-61f6-4292-b3de-40a6ccb9e9ce",
   "metadata": {},
   "outputs": [
    {
     "data": {
      "text/plain": [
       "array([ 0.84147098,  0.90929743,  0.14112001, -0.7568025 , -0.95892427,\n",
       "       -0.2794155 ,  0.6569866 ,  0.98935825,  0.41211849, -0.54402111,\n",
       "       -0.99999021, -0.53657292,  0.42016704,  0.99060736,  0.65028784,\n",
       "       -0.28790332, -0.96139749, -0.75098725,  0.14987721,  0.91294525,\n",
       "        0.83665564, -0.00885131, -0.8462204 , -0.90557836, -0.13235175,\n",
       "        0.76255845,  0.95637593,  0.27090579, -0.66363388, -0.98803162,\n",
       "       -0.40403765,  0.55142668,  0.99991186,  0.52908269, -0.42818267,\n",
       "       -0.99177885])"
      ]
     },
     "execution_count": 86,
     "metadata": {},
     "output_type": "execute_result"
    }
   ],
   "source": [
    "np.sin(np.transpose(np.arange(1,37)))"
   ]
  },
  {
   "cell_type": "markdown",
   "id": "cdb731fd-eba1-4425-b963-53c53c365cd4",
   "metadata": {},
   "source": [
    "#quantile"
   ]
  },
  {
   "cell_type": "code",
   "execution_count": 88,
   "id": "10d1354b-addc-42d0-bde1-4e957e2a2e34",
   "metadata": {},
   "outputs": [
    {
     "data": {
      "text/plain": [
       "10.388294694831615"
      ]
     },
     "execution_count": 88,
     "metadata": {},
     "output_type": "execute_result"
    }
   ],
   "source": [
    "np.quantile(np.transpose(np.arange(1,37)).std(),0.7)"
   ]
  }
 ],
 "metadata": {
  "kernelspec": {
   "display_name": "Python 3 (ipykernel)",
   "language": "python",
   "name": "python3"
  },
  "language_info": {
   "codemirror_mode": {
    "name": "ipython",
    "version": 3
   },
   "file_extension": ".py",
   "mimetype": "text/x-python",
   "name": "python",
   "nbconvert_exporter": "python",
   "pygments_lexer": "ipython3",
   "version": "3.11.7"
  }
 },
 "nbformat": 4,
 "nbformat_minor": 5
}
